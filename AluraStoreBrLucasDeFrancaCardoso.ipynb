{
  "nbformat": 4,
  "nbformat_minor": 0,
  "metadata": {
    "colab": {
      "provenance": [],
      "include_colab_link": true
    },
    "kernelspec": {
      "name": "python3",
      "display_name": "Python 3"
    },
    "language_info": {
      "name": "python"
    }
  },
  "cells": [
    {
      "cell_type": "markdown",
      "metadata": {
        "id": "view-in-github",
        "colab_type": "text"
      },
      "source": [
        "<a href=\"https://colab.research.google.com/github/SrKoalo/challenge_alura_store/blob/main/AluraStoreBrLucasDeFrancaCardoso.ipynb\" target=\"_parent\"><img src=\"https://colab.research.google.com/assets/colab-badge.svg\" alt=\"Open In Colab\"/></a>"
      ]
    },
    {
      "cell_type": "markdown",
      "source": [
        "### Importação dos dados\n",
        "\n"
      ],
      "metadata": {
        "id": "RhEdWd9YUR6H"
      }
    },
    {
      "cell_type": "code",
      "execution_count": 1,
      "metadata": {
        "colab": {
          "base_uri": "https://localhost:8080/",
          "height": 206
        },
        "id": "T3EvaeQ_INIL",
        "outputId": "21595f61-1bc9-48ed-88e8-9baf755e0583"
      },
      "outputs": [
        {
          "output_type": "execute_result",
          "data": {
            "text/plain": [
              "                 Produto Categoria do Produto    Preço      Frete  \\\n",
              "0     Assistente virtual          eletronicos   219.08   9.249790   \n",
              "1         Mesa de jantar               moveis   256.35  11.234305   \n",
              "2      Jogo de tabuleiro           brinquedos   279.51  21.262681   \n",
              "3            Micro-ondas     eletrodomesticos  1009.99  54.667344   \n",
              "4  Cadeira de escritório               moveis   446.99  26.964689   \n",
              "\n",
              "  Data da Compra        Vendedor Local da compra  Avaliação da compra  \\\n",
              "0     16/01/2021     Pedro Gomes              SP                    4   \n",
              "1     18/05/2022  Beatriz Moraes              RJ                    1   \n",
              "2     15/03/2021      João Souza              DF                    1   \n",
              "3     03/05/2022      João Souza              RS                    4   \n",
              "4     07/11/2020   Larissa Alves              MG                    5   \n",
              "\n",
              "  Tipo de pagamento  Quantidade de parcelas    lat    lon  \n",
              "0    cartao_credito                       8 -22.19 -48.79  \n",
              "1    cartao_credito                       4 -22.25 -42.66  \n",
              "2    cartao_credito                       1 -15.83 -47.86  \n",
              "3            boleto                       1 -30.17 -53.50  \n",
              "4            boleto                       1 -18.10 -44.38  "
            ],
            "text/html": [
              "\n",
              "  <div id=\"df-67a6ca5c-3614-4929-a3f9-0b19b3456985\" class=\"colab-df-container\">\n",
              "    <div>\n",
              "<style scoped>\n",
              "    .dataframe tbody tr th:only-of-type {\n",
              "        vertical-align: middle;\n",
              "    }\n",
              "\n",
              "    .dataframe tbody tr th {\n",
              "        vertical-align: top;\n",
              "    }\n",
              "\n",
              "    .dataframe thead th {\n",
              "        text-align: right;\n",
              "    }\n",
              "</style>\n",
              "<table border=\"1\" class=\"dataframe\">\n",
              "  <thead>\n",
              "    <tr style=\"text-align: right;\">\n",
              "      <th></th>\n",
              "      <th>Produto</th>\n",
              "      <th>Categoria do Produto</th>\n",
              "      <th>Preço</th>\n",
              "      <th>Frete</th>\n",
              "      <th>Data da Compra</th>\n",
              "      <th>Vendedor</th>\n",
              "      <th>Local da compra</th>\n",
              "      <th>Avaliação da compra</th>\n",
              "      <th>Tipo de pagamento</th>\n",
              "      <th>Quantidade de parcelas</th>\n",
              "      <th>lat</th>\n",
              "      <th>lon</th>\n",
              "    </tr>\n",
              "  </thead>\n",
              "  <tbody>\n",
              "    <tr>\n",
              "      <th>0</th>\n",
              "      <td>Assistente virtual</td>\n",
              "      <td>eletronicos</td>\n",
              "      <td>219.08</td>\n",
              "      <td>9.249790</td>\n",
              "      <td>16/01/2021</td>\n",
              "      <td>Pedro Gomes</td>\n",
              "      <td>SP</td>\n",
              "      <td>4</td>\n",
              "      <td>cartao_credito</td>\n",
              "      <td>8</td>\n",
              "      <td>-22.19</td>\n",
              "      <td>-48.79</td>\n",
              "    </tr>\n",
              "    <tr>\n",
              "      <th>1</th>\n",
              "      <td>Mesa de jantar</td>\n",
              "      <td>moveis</td>\n",
              "      <td>256.35</td>\n",
              "      <td>11.234305</td>\n",
              "      <td>18/05/2022</td>\n",
              "      <td>Beatriz Moraes</td>\n",
              "      <td>RJ</td>\n",
              "      <td>1</td>\n",
              "      <td>cartao_credito</td>\n",
              "      <td>4</td>\n",
              "      <td>-22.25</td>\n",
              "      <td>-42.66</td>\n",
              "    </tr>\n",
              "    <tr>\n",
              "      <th>2</th>\n",
              "      <td>Jogo de tabuleiro</td>\n",
              "      <td>brinquedos</td>\n",
              "      <td>279.51</td>\n",
              "      <td>21.262681</td>\n",
              "      <td>15/03/2021</td>\n",
              "      <td>João Souza</td>\n",
              "      <td>DF</td>\n",
              "      <td>1</td>\n",
              "      <td>cartao_credito</td>\n",
              "      <td>1</td>\n",
              "      <td>-15.83</td>\n",
              "      <td>-47.86</td>\n",
              "    </tr>\n",
              "    <tr>\n",
              "      <th>3</th>\n",
              "      <td>Micro-ondas</td>\n",
              "      <td>eletrodomesticos</td>\n",
              "      <td>1009.99</td>\n",
              "      <td>54.667344</td>\n",
              "      <td>03/05/2022</td>\n",
              "      <td>João Souza</td>\n",
              "      <td>RS</td>\n",
              "      <td>4</td>\n",
              "      <td>boleto</td>\n",
              "      <td>1</td>\n",
              "      <td>-30.17</td>\n",
              "      <td>-53.50</td>\n",
              "    </tr>\n",
              "    <tr>\n",
              "      <th>4</th>\n",
              "      <td>Cadeira de escritório</td>\n",
              "      <td>moveis</td>\n",
              "      <td>446.99</td>\n",
              "      <td>26.964689</td>\n",
              "      <td>07/11/2020</td>\n",
              "      <td>Larissa Alves</td>\n",
              "      <td>MG</td>\n",
              "      <td>5</td>\n",
              "      <td>boleto</td>\n",
              "      <td>1</td>\n",
              "      <td>-18.10</td>\n",
              "      <td>-44.38</td>\n",
              "    </tr>\n",
              "  </tbody>\n",
              "</table>\n",
              "</div>\n",
              "    <div class=\"colab-df-buttons\">\n",
              "\n",
              "  <div class=\"colab-df-container\">\n",
              "    <button class=\"colab-df-convert\" onclick=\"convertToInteractive('df-67a6ca5c-3614-4929-a3f9-0b19b3456985')\"\n",
              "            title=\"Convert this dataframe to an interactive table.\"\n",
              "            style=\"display:none;\">\n",
              "\n",
              "  <svg xmlns=\"http://www.w3.org/2000/svg\" height=\"24px\" viewBox=\"0 -960 960 960\">\n",
              "    <path d=\"M120-120v-720h720v720H120Zm60-500h600v-160H180v160Zm220 220h160v-160H400v160Zm0 220h160v-160H400v160ZM180-400h160v-160H180v160Zm440 0h160v-160H620v160ZM180-180h160v-160H180v160Zm440 0h160v-160H620v160Z\"/>\n",
              "  </svg>\n",
              "    </button>\n",
              "\n",
              "  <style>\n",
              "    .colab-df-container {\n",
              "      display:flex;\n",
              "      gap: 12px;\n",
              "    }\n",
              "\n",
              "    .colab-df-convert {\n",
              "      background-color: #E8F0FE;\n",
              "      border: none;\n",
              "      border-radius: 50%;\n",
              "      cursor: pointer;\n",
              "      display: none;\n",
              "      fill: #1967D2;\n",
              "      height: 32px;\n",
              "      padding: 0 0 0 0;\n",
              "      width: 32px;\n",
              "    }\n",
              "\n",
              "    .colab-df-convert:hover {\n",
              "      background-color: #E2EBFA;\n",
              "      box-shadow: 0px 1px 2px rgba(60, 64, 67, 0.3), 0px 1px 3px 1px rgba(60, 64, 67, 0.15);\n",
              "      fill: #174EA6;\n",
              "    }\n",
              "\n",
              "    .colab-df-buttons div {\n",
              "      margin-bottom: 4px;\n",
              "    }\n",
              "\n",
              "    [theme=dark] .colab-df-convert {\n",
              "      background-color: #3B4455;\n",
              "      fill: #D2E3FC;\n",
              "    }\n",
              "\n",
              "    [theme=dark] .colab-df-convert:hover {\n",
              "      background-color: #434B5C;\n",
              "      box-shadow: 0px 1px 3px 1px rgba(0, 0, 0, 0.15);\n",
              "      filter: drop-shadow(0px 1px 2px rgba(0, 0, 0, 0.3));\n",
              "      fill: #FFFFFF;\n",
              "    }\n",
              "  </style>\n",
              "\n",
              "    <script>\n",
              "      const buttonEl =\n",
              "        document.querySelector('#df-67a6ca5c-3614-4929-a3f9-0b19b3456985 button.colab-df-convert');\n",
              "      buttonEl.style.display =\n",
              "        google.colab.kernel.accessAllowed ? 'block' : 'none';\n",
              "\n",
              "      async function convertToInteractive(key) {\n",
              "        const element = document.querySelector('#df-67a6ca5c-3614-4929-a3f9-0b19b3456985');\n",
              "        const dataTable =\n",
              "          await google.colab.kernel.invokeFunction('convertToInteractive',\n",
              "                                                    [key], {});\n",
              "        if (!dataTable) return;\n",
              "\n",
              "        const docLinkHtml = 'Like what you see? Visit the ' +\n",
              "          '<a target=\"_blank\" href=https://colab.research.google.com/notebooks/data_table.ipynb>data table notebook</a>'\n",
              "          + ' to learn more about interactive tables.';\n",
              "        element.innerHTML = '';\n",
              "        dataTable['output_type'] = 'display_data';\n",
              "        await google.colab.output.renderOutput(dataTable, element);\n",
              "        const docLink = document.createElement('div');\n",
              "        docLink.innerHTML = docLinkHtml;\n",
              "        element.appendChild(docLink);\n",
              "      }\n",
              "    </script>\n",
              "  </div>\n",
              "\n",
              "\n",
              "    <div id=\"df-15eebc0b-a517-4d04-b490-fd9df08a5ad1\">\n",
              "      <button class=\"colab-df-quickchart\" onclick=\"quickchart('df-15eebc0b-a517-4d04-b490-fd9df08a5ad1')\"\n",
              "                title=\"Suggest charts\"\n",
              "                style=\"display:none;\">\n",
              "\n",
              "<svg xmlns=\"http://www.w3.org/2000/svg\" height=\"24px\"viewBox=\"0 0 24 24\"\n",
              "     width=\"24px\">\n",
              "    <g>\n",
              "        <path d=\"M19 3H5c-1.1 0-2 .9-2 2v14c0 1.1.9 2 2 2h14c1.1 0 2-.9 2-2V5c0-1.1-.9-2-2-2zM9 17H7v-7h2v7zm4 0h-2V7h2v10zm4 0h-2v-4h2v4z\"/>\n",
              "    </g>\n",
              "</svg>\n",
              "      </button>\n",
              "\n",
              "<style>\n",
              "  .colab-df-quickchart {\n",
              "      --bg-color: #E8F0FE;\n",
              "      --fill-color: #1967D2;\n",
              "      --hover-bg-color: #E2EBFA;\n",
              "      --hover-fill-color: #174EA6;\n",
              "      --disabled-fill-color: #AAA;\n",
              "      --disabled-bg-color: #DDD;\n",
              "  }\n",
              "\n",
              "  [theme=dark] .colab-df-quickchart {\n",
              "      --bg-color: #3B4455;\n",
              "      --fill-color: #D2E3FC;\n",
              "      --hover-bg-color: #434B5C;\n",
              "      --hover-fill-color: #FFFFFF;\n",
              "      --disabled-bg-color: #3B4455;\n",
              "      --disabled-fill-color: #666;\n",
              "  }\n",
              "\n",
              "  .colab-df-quickchart {\n",
              "    background-color: var(--bg-color);\n",
              "    border: none;\n",
              "    border-radius: 50%;\n",
              "    cursor: pointer;\n",
              "    display: none;\n",
              "    fill: var(--fill-color);\n",
              "    height: 32px;\n",
              "    padding: 0;\n",
              "    width: 32px;\n",
              "  }\n",
              "\n",
              "  .colab-df-quickchart:hover {\n",
              "    background-color: var(--hover-bg-color);\n",
              "    box-shadow: 0 1px 2px rgba(60, 64, 67, 0.3), 0 1px 3px 1px rgba(60, 64, 67, 0.15);\n",
              "    fill: var(--button-hover-fill-color);\n",
              "  }\n",
              "\n",
              "  .colab-df-quickchart-complete:disabled,\n",
              "  .colab-df-quickchart-complete:disabled:hover {\n",
              "    background-color: var(--disabled-bg-color);\n",
              "    fill: var(--disabled-fill-color);\n",
              "    box-shadow: none;\n",
              "  }\n",
              "\n",
              "  .colab-df-spinner {\n",
              "    border: 2px solid var(--fill-color);\n",
              "    border-color: transparent;\n",
              "    border-bottom-color: var(--fill-color);\n",
              "    animation:\n",
              "      spin 1s steps(1) infinite;\n",
              "  }\n",
              "\n",
              "  @keyframes spin {\n",
              "    0% {\n",
              "      border-color: transparent;\n",
              "      border-bottom-color: var(--fill-color);\n",
              "      border-left-color: var(--fill-color);\n",
              "    }\n",
              "    20% {\n",
              "      border-color: transparent;\n",
              "      border-left-color: var(--fill-color);\n",
              "      border-top-color: var(--fill-color);\n",
              "    }\n",
              "    30% {\n",
              "      border-color: transparent;\n",
              "      border-left-color: var(--fill-color);\n",
              "      border-top-color: var(--fill-color);\n",
              "      border-right-color: var(--fill-color);\n",
              "    }\n",
              "    40% {\n",
              "      border-color: transparent;\n",
              "      border-right-color: var(--fill-color);\n",
              "      border-top-color: var(--fill-color);\n",
              "    }\n",
              "    60% {\n",
              "      border-color: transparent;\n",
              "      border-right-color: var(--fill-color);\n",
              "    }\n",
              "    80% {\n",
              "      border-color: transparent;\n",
              "      border-right-color: var(--fill-color);\n",
              "      border-bottom-color: var(--fill-color);\n",
              "    }\n",
              "    90% {\n",
              "      border-color: transparent;\n",
              "      border-bottom-color: var(--fill-color);\n",
              "    }\n",
              "  }\n",
              "</style>\n",
              "\n",
              "      <script>\n",
              "        async function quickchart(key) {\n",
              "          const quickchartButtonEl =\n",
              "            document.querySelector('#' + key + ' button');\n",
              "          quickchartButtonEl.disabled = true;  // To prevent multiple clicks.\n",
              "          quickchartButtonEl.classList.add('colab-df-spinner');\n",
              "          try {\n",
              "            const charts = await google.colab.kernel.invokeFunction(\n",
              "                'suggestCharts', [key], {});\n",
              "          } catch (error) {\n",
              "            console.error('Error during call to suggestCharts:', error);\n",
              "          }\n",
              "          quickchartButtonEl.classList.remove('colab-df-spinner');\n",
              "          quickchartButtonEl.classList.add('colab-df-quickchart-complete');\n",
              "        }\n",
              "        (() => {\n",
              "          let quickchartButtonEl =\n",
              "            document.querySelector('#df-15eebc0b-a517-4d04-b490-fd9df08a5ad1 button');\n",
              "          quickchartButtonEl.style.display =\n",
              "            google.colab.kernel.accessAllowed ? 'block' : 'none';\n",
              "        })();\n",
              "      </script>\n",
              "    </div>\n",
              "\n",
              "    </div>\n",
              "  </div>\n"
            ],
            "application/vnd.google.colaboratory.intrinsic+json": {
              "type": "dataframe",
              "variable_name": "loja",
              "summary": "{\n  \"name\": \"loja\",\n  \"rows\": 2359,\n  \"fields\": [\n    {\n      \"column\": \"Produto\",\n      \"properties\": {\n        \"dtype\": \"category\",\n        \"num_unique_values\": 51,\n        \"samples\": [\n          \"Viol\\u00e3o\",\n          \"Bola de basquete\",\n          \"Smartwatch\"\n        ],\n        \"semantic_type\": \"\",\n        \"description\": \"\"\n      }\n    },\n    {\n      \"column\": \"Categoria do Produto\",\n      \"properties\": {\n        \"dtype\": \"category\",\n        \"num_unique_values\": 8,\n        \"samples\": [\n          \"moveis\",\n          \"esporte e lazer\",\n          \"eletronicos\"\n        ],\n        \"semantic_type\": \"\",\n        \"description\": \"\"\n      }\n    },\n    {\n      \"column\": \"Pre\\u00e7o\",\n      \"properties\": {\n        \"dtype\": \"number\",\n        \"std\": 819.5827782539145,\n        \"min\": 10.07,\n        \"max\": 3969.38,\n        \"num_unique_values\": 2315,\n        \"samples\": [\n          446.11,\n          107.31,\n          65.86\n        ],\n        \"semantic_type\": \"\",\n        \"description\": \"\"\n      }\n    },\n    {\n      \"column\": \"Frete\",\n      \"properties\": {\n        \"dtype\": \"number\",\n        \"std\": 43.814183327408166,\n        \"min\": 0.0,\n        \"max\": 214.3770604781,\n        \"num_unique_values\": 2149,\n        \"samples\": [\n          83.815279607,\n          16.069664669,\n          14.0344876928\n        ],\n        \"semantic_type\": \"\",\n        \"description\": \"\"\n      }\n    },\n    {\n      \"column\": \"Data da Compra\",\n      \"properties\": {\n        \"dtype\": \"object\",\n        \"num_unique_values\": 1018,\n        \"samples\": [\n          \"15/09/2022\",\n          \"03/06/2020\",\n          \"06/11/2021\"\n        ],\n        \"semantic_type\": \"\",\n        \"description\": \"\"\n      }\n    },\n    {\n      \"column\": \"Vendedor\",\n      \"properties\": {\n        \"dtype\": \"category\",\n        \"num_unique_values\": 14,\n        \"samples\": [\n          \"Juliana Costa\",\n          \"Mariana Ferreira\",\n          \"Pedro Gomes\"\n        ],\n        \"semantic_type\": \"\",\n        \"description\": \"\"\n      }\n    },\n    {\n      \"column\": \"Local da compra\",\n      \"properties\": {\n        \"dtype\": \"category\",\n        \"num_unique_values\": 26,\n        \"samples\": [\n          \"TO\",\n          \"RN\",\n          \"SP\"\n        ],\n        \"semantic_type\": \"\",\n        \"description\": \"\"\n      }\n    },\n    {\n      \"column\": \"Avalia\\u00e7\\u00e3o da compra\",\n      \"properties\": {\n        \"dtype\": \"number\",\n        \"std\": 1,\n        \"min\": 1,\n        \"max\": 5,\n        \"num_unique_values\": 5,\n        \"samples\": [\n          1,\n          2,\n          5\n        ],\n        \"semantic_type\": \"\",\n        \"description\": \"\"\n      }\n    },\n    {\n      \"column\": \"Tipo de pagamento\",\n      \"properties\": {\n        \"dtype\": \"category\",\n        \"num_unique_values\": 4,\n        \"samples\": [\n          \"boleto\",\n          \"cartao_debito\",\n          \"cartao_credito\"\n        ],\n        \"semantic_type\": \"\",\n        \"description\": \"\"\n      }\n    },\n    {\n      \"column\": \"Quantidade de parcelas\",\n      \"properties\": {\n        \"dtype\": \"number\",\n        \"std\": 2,\n        \"min\": 1,\n        \"max\": 24,\n        \"num_unique_values\": 15,\n        \"samples\": [\n          7,\n          14,\n          8\n        ],\n        \"semantic_type\": \"\",\n        \"description\": \"\"\n      }\n    },\n    {\n      \"column\": \"lat\",\n      \"properties\": {\n        \"dtype\": \"number\",\n        \"std\": 5.372399916530833,\n        \"min\": -30.17,\n        \"max\": 1.41,\n        \"num_unique_values\": 26,\n        \"samples\": [\n          -9.46,\n          -5.81,\n          -22.19\n        ],\n        \"semantic_type\": \"\",\n        \"description\": \"\"\n      }\n    },\n    {\n      \"column\": \"lon\",\n      \"properties\": {\n        \"dtype\": \"number\",\n        \"std\": 4.183180020544179,\n        \"min\": -70.55,\n        \"max\": -36.59,\n        \"num_unique_values\": 26,\n        \"samples\": [\n          -48.26,\n          -36.59,\n          -48.79\n        ],\n        \"semantic_type\": \"\",\n        \"description\": \"\"\n      }\n    }\n  ]\n}"
            }
          },
          "metadata": {},
          "execution_count": 1
        }
      ],
      "source": [
        "import pandas as pd\n",
        "\n",
        "url = \"https://raw.githubusercontent.com/alura-es-cursos/challenge1-data-science/refs/heads/main/base-de-dados-challenge-1/loja_1.csv\"\n",
        "url2 = \"https://raw.githubusercontent.com/alura-es-cursos/challenge1-data-science/refs/heads/main/base-de-dados-challenge-1/loja_2.csv\"\n",
        "url3 = \"https://raw.githubusercontent.com/alura-es-cursos/challenge1-data-science/refs/heads/main/base-de-dados-challenge-1/loja_3.csv\"\n",
        "url4 = \"https://raw.githubusercontent.com/alura-es-cursos/challenge1-data-science/refs/heads/main/base-de-dados-challenge-1/loja_4.csv\"\n",
        "\n",
        "loja = pd.read_csv(url)\n",
        "loja2 = pd.read_csv(url2)\n",
        "loja3 = pd.read_csv(url3)\n",
        "loja4 = pd.read_csv(url4)\n",
        "\n",
        "loja.head()"
      ]
    },
    {
      "cell_type": "markdown",
      "source": [
        "#1. Análise do faturamento\n"
      ],
      "metadata": {
        "id": "X62IW3KFUIYm"
      }
    },
    {
      "cell_type": "code",
      "source": [
        "fl1 = round(sum(loja['Preço']),2)\n",
        "fl2 = round(sum(loja2['Preço']),2)\n",
        "fl3 = round(sum(loja3['Preço']),2)\n",
        "fl4 = round(sum(loja4['Preço']),2)\n"
      ],
      "metadata": {
        "id": "xykobSftV64I"
      },
      "execution_count": 152,
      "outputs": []
    },
    {
      "cell_type": "code",
      "source": [
        "print(f\"Faturamento da Loja 1: {fl1}\")\n",
        "print(f\"Faturamento da Loja 2: {fl2}\")\n",
        "print(f\"Faturamento da Loja 3: {fl3}\")\n",
        "print(f\"Faturamento da Loja 4: {fl4}\")"
      ],
      "metadata": {
        "id": "KDyr8E71V3m-",
        "colab": {
          "base_uri": "https://localhost:8080/"
        },
        "outputId": "856b0c8f-e1e9-4b6b-8ee3-b65468622c79"
      },
      "execution_count": 153,
      "outputs": [
        {
          "output_type": "stream",
          "name": "stdout",
          "text": [
            "Faturamento da Loja 1: 1534509.12\n",
            "Faturamento da Loja 2: 1488459.06\n",
            "Faturamento da Loja 3: 1464025.03\n",
            "Faturamento da Loja 4: 1384497.58\n"
          ]
        }
      ]
    },
    {
      "cell_type": "markdown",
      "source": [
        "# 2. Vendas por Categoria\n"
      ],
      "metadata": {
        "id": "2V_vcAPzWZmR"
      }
    },
    {
      "cell_type": "code",
      "source": [
        "cat_loja1 = loja['Categoria do Produto'].value_counts()\n",
        "cat_loja2 = loja2['Categoria do Produto'].value_counts()\n",
        "cat_loja3 = loja3['Categoria do Produto'].value_counts()\n",
        "cat_loja4 = loja4['Categoria do Produto'].value_counts()"
      ],
      "metadata": {
        "id": "A34YupIuYhfF"
      },
      "execution_count": 30,
      "outputs": []
    },
    {
      "cell_type": "code",
      "source": [
        "print(f'Loja 1: {cat_loja1}\\n')\n",
        "print(f'Loja 2: {cat_loja2}\\n')\n",
        "print(f'Loja 3: {cat_loja3}\\n')\n",
        "print(f'Loja 4: {cat_loja4}\\n')"
      ],
      "metadata": {
        "id": "yZR6cOjXYSk1",
        "colab": {
          "base_uri": "https://localhost:8080/"
        },
        "outputId": "59e05584-148c-43e8-bbca-3d57032b7f17"
      },
      "execution_count": 32,
      "outputs": [
        {
          "output_type": "stream",
          "name": "stdout",
          "text": [
            "Loja 1: Categoria do Produto\n",
            "moveis                   465\n",
            "eletronicos              448\n",
            "brinquedos               324\n",
            "eletrodomesticos         312\n",
            "esporte e lazer          284\n",
            "instrumentos musicais    182\n",
            "livros                   173\n",
            "utilidades domesticas    171\n",
            "Name: count, dtype: int64\n",
            "\n",
            "Loja 2: Categoria do Produto\n",
            "moveis                   442\n",
            "eletronicos              422\n",
            "brinquedos               313\n",
            "eletrodomesticos         305\n",
            "esporte e lazer          275\n",
            "instrumentos musicais    224\n",
            "livros                   197\n",
            "utilidades domesticas    181\n",
            "Name: count, dtype: int64\n",
            "\n",
            "Loja 3: Categoria do Produto\n",
            "moveis                   499\n",
            "eletronicos              451\n",
            "brinquedos               315\n",
            "eletrodomesticos         278\n",
            "esporte e lazer          277\n",
            "livros                   185\n",
            "instrumentos musicais    177\n",
            "utilidades domesticas    177\n",
            "Name: count, dtype: int64\n",
            "\n",
            "Loja 4: Categoria do Produto\n",
            "moveis                   480\n",
            "eletronicos              451\n",
            "brinquedos               338\n",
            "esporte e lazer          277\n",
            "eletrodomesticos         254\n",
            "utilidades domesticas    201\n",
            "livros                   187\n",
            "instrumentos musicais    170\n",
            "Name: count, dtype: int64\n",
            "\n"
          ]
        }
      ]
    },
    {
      "cell_type": "markdown",
      "source": [
        "# 3. Média de Avaliação das Lojas"
      ],
      "metadata": {
        "id": "Rq6tU_xSY3jk"
      }
    },
    {
      "cell_type": "code",
      "source": [
        "media_loja1 = sum(loja['Avaliação da compra']) / len(loja['Avaliação da compra'])\n",
        "media_loja2 = sum(loja2['Avaliação da compra']) / len(loja2['Avaliação da compra'])\n",
        "media_loja3 = sum(loja3['Avaliação da compra']) / len(loja3['Avaliação da compra'])\n",
        "media_loja4 = sum(loja4['Avaliação da compra']) / len(loja4['Avaliação da compra'])\n"
      ],
      "metadata": {
        "id": "bh3jjjJwY5MU"
      },
      "execution_count": 42,
      "outputs": []
    },
    {
      "cell_type": "code",
      "source": [
        "print(f'Média de avaliações da Loja 1: {media_loja1:.2f}')\n",
        "print(f'Média de avaliações da Loja 2: {media_loja2:.2f}')\n",
        "print(f'Média de avaliações da Loja 3: {media_loja3:.2f}')\n",
        "print(f'Média de avaliações da Loja 4: {media_loja4:.2f}')"
      ],
      "metadata": {
        "id": "I0KkjPoTY88F",
        "colab": {
          "base_uri": "https://localhost:8080/"
        },
        "outputId": "d5393c4b-a2ab-4078-f023-1271a4ac97aa"
      },
      "execution_count": 43,
      "outputs": [
        {
          "output_type": "stream",
          "name": "stdout",
          "text": [
            "Média de avaliações da Loja 1: 3.98\n",
            "Média de avaliações da Loja 2: 4.04\n",
            "Média de avaliações da Loja 3: 4.05\n",
            "Média de avaliações da Loja 4: 4.00\n"
          ]
        }
      ]
    },
    {
      "cell_type": "markdown",
      "source": [
        "# 4. Produtos Mais e Menos Vendidos"
      ],
      "metadata": {
        "id": "DmNp1KPBZCm-"
      }
    },
    {
      "cell_type": "code",
      "source": [
        "def print_mais_e_menos(nome_loja, vendas):\n",
        "    max_vendas = vendas.iloc[0]\n",
        "    min_vendas = vendas.iloc[-1]\n",
        "\n",
        "    mais_vendidos = vendas[vendas == max_vendas].index.tolist()\n",
        "    menos_vendidos = vendas[vendas == min_vendas].index.tolist()\n",
        "\n",
        "    print(f\"{nome_loja}:\")\n",
        "    print(f\"  Produtos mais vendidos ({max_vendas}): {', '.join(mais_vendidos)}\")\n",
        "    print(f\"  Produtos menos vendidos ({min_vendas}): {', '.join(menos_vendidos)}\")\n",
        "\n",
        "mais_e_menos_loja1 = loja['Produto'].value_counts()\n",
        "mais_e_menos_loja2 = loja2['Produto'].value_counts()\n",
        "mais_e_menos_loja3 = loja3['Produto'].value_counts()\n",
        "mais_e_menos_loja4 = loja4['Produto'].value_counts()"
      ],
      "metadata": {
        "id": "qoyjqijQZHfF"
      },
      "execution_count": 121,
      "outputs": []
    },
    {
      "cell_type": "code",
      "source": [
        "print_mais_e_menos(\"Loja 1\", mais_e_menos_loja1)\n",
        "print_mais_e_menos(\"Loja 2\", mais_e_menos_loja2)\n",
        "print_mais_e_menos(\"Loja 3\", mais_e_menos_loja3)\n",
        "print_mais_e_menos(\"Loja 4\", mais_e_menos_loja4)"
      ],
      "metadata": {
        "id": "0Sw3sd4IZIGW",
        "colab": {
          "base_uri": "https://localhost:8080/"
        },
        "outputId": "3681ada2-c61b-4bdb-d3e5-458ef59571b1"
      },
      "execution_count": 191,
      "outputs": [
        {
          "output_type": "stream",
          "name": "stdout",
          "text": [
            "Loja 1:\n",
            "  Produtos mais vendidos (60): Micro-ondas, TV Led UHD 4K, Guarda roupas\n",
            "  Produtos menos vendidos (33): Headset, Celular ABXY\n",
            "Loja 2:\n",
            "  Produtos mais vendidos (65): Iniciando em programação\n",
            "  Produtos menos vendidos (32): Jogo de tabuleiro\n",
            "Loja 3:\n",
            "  Produtos mais vendidos (57): Kit banquetas\n",
            "  Produtos menos vendidos (35): Blocos de montar\n",
            "Loja 4:\n",
            "  Produtos mais vendidos (62): Cama box\n",
            "  Produtos menos vendidos (33): Guitarra\n"
          ]
        }
      ]
    },
    {
      "cell_type": "markdown",
      "source": [
        "# 5. Frete Médio por Loja\n"
      ],
      "metadata": {
        "id": "Fl0cGi3bZKqU"
      }
    },
    {
      "cell_type": "code",
      "source": [
        "media_frete_loja1 = sum(loja['Frete']) / len(loja['Frete'])\n",
        "media_frete_loja2 = sum(loja2['Frete']) / len(loja2['Frete'])\n",
        "media_frete_loja3 = sum(loja3['Frete']) / len(loja3['Frete'])\n",
        "media_frete_loja4 = sum(loja4['Frete']) / len(loja4['Frete'])"
      ],
      "metadata": {
        "id": "S2JeaCykZNy9"
      },
      "execution_count": 127,
      "outputs": []
    },
    {
      "cell_type": "code",
      "source": [
        "print(f'Média de frete da Loja 1: {media_frete_loja1:.2f}')\n",
        "print(f'Média de frete da Loja 2: {media_frete_loja2:.2f}')\n",
        "print(f'Média de frete da Loja 3: {media_frete_loja3:.2f}')\n",
        "print(f'Média de frete da Loja 4: {media_frete_loja4:.2f}')"
      ],
      "metadata": {
        "id": "0tSdCie9ZQlt",
        "colab": {
          "base_uri": "https://localhost:8080/"
        },
        "outputId": "1bf971c1-9951-4a4a-f081-4baf4a1d7cab"
      },
      "execution_count": 128,
      "outputs": [
        {
          "output_type": "stream",
          "name": "stdout",
          "text": [
            "Média de frete da Loja 1: 34.69\n",
            "Média de frete da Loja 2: 33.62\n",
            "Média de frete da Loja 3: 33.07\n",
            "Média de frete da Loja 4: 31.28\n"
          ]
        }
      ]
    },
    {
      "cell_type": "markdown",
      "source": [
        "## Relatório"
      ],
      "metadata": {
        "id": "ghOTSsYCAuex"
      }
    },
    {
      "cell_type": "code",
      "source": [
        "import matplotlib.pyplot as plt\n",
        "import matplotlib.ticker as mticker\n",
        "import locale\n",
        "\n",
        "\n",
        "\n",
        "faturamentos = [fl1, fl2, fl3, fl4]\n",
        "lojas = ['Loja 1', 'Loja 2', 'Loja 3', 'Loja 4']\n",
        "colors = ['blue', 'green', 'red', 'purple'] # Define a list of colors\n",
        "bars = plt.bar(lojas, faturamentos, color=colors) # Pass the colors to the bar function\n",
        "plt.title('Faturamento por Loja')\n",
        "plt.ylim(1350000, 1600000)\n",
        "plt.gca().yaxis.set_major_formatter(mticker.ScalarFormatter(useOffset=False, useMathText=False))\n",
        "plt.ticklabel_format(style='plain', axis='y')\n",
        "\n",
        "# Add values on top of each bar\n",
        "for bar in bars:\n",
        "    yval = bar.get_height()\n",
        "    # Format as currency using locale\n",
        "    currency_format = locale.currency(yval, grouping=True, symbol=True)\n",
        "    plt.text(bar.get_x() + bar.get_width()/2, yval, currency_format, va='bottom', ha='center') # va: vertical alignment, ha: horizontal alignment\n",
        "\n",
        "plt.show()"
      ],
      "metadata": {
        "colab": {
          "base_uri": "https://localhost:8080/",
          "height": 452
        },
        "id": "D8bNoM1UAz05",
        "outputId": "3ae263ba-7f57-4e95-c149-df2d3297451d"
      },
      "execution_count": 204,
      "outputs": [
        {
          "output_type": "display_data",
          "data": {
            "text/plain": [
              "<Figure size 640x480 with 1 Axes>"
            ],
            "image/png": "[encoded data removed]"
          },
          "metadata": {}
        }
      ]
    },
    {
      "cell_type": "code",
      "source": [
        "import matplotlib.pyplot as plt\n",
        "import pandas as pd\n",
        "\n",
        "# Ensure all_stores dataframe exists (assuming it was created in a previous cell)\n",
        "if 'all_stores' not in locals():\n",
        "    all_stores = pd.concat([loja, loja2, loja3, loja4])\n",
        "\n",
        "# Get overall most and least sold product categories\n",
        "overall_category_counts = all_stores['Categoria do Produto'].value_counts()\n",
        "most_sold_categories = overall_category_counts[overall_category_counts == overall_category_counts.iloc[0]].index.tolist()\n",
        "least_sold_categories = overall_category_counts[overall_category_counts == overall_category_counts.iloc[-1]].index.tolist()\n",
        "\n",
        "# Filter the category counts for only the most and least sold categories\n",
        "filtered_categories = overall_category_counts.loc[most_sold_categories + least_sold_categories]\n",
        "\n",
        "# Create a horizontal bar plot\n",
        "plt.figure(figsize=(10, 6))\n",
        "bars = plt.barh(filtered_categories.index, filtered_categories.values)\n",
        "\n",
        "plt.title('Categorias mais e menos vendidas')\n",
        "plt.xlabel('Unidades vendidas')\n",
        "plt.ylabel('Categoria')\n",
        "\n",
        "\n",
        "# Add values on the bars\n",
        "for bar in bars:\n",
        "    xval = bar.get_width()\n",
        "    plt.text(xval, bar.get_y() + bar.get_height()/2, xval, va='center', ha='left')\n",
        "\n",
        "\n",
        "plt.tight_layout()\n",
        "plt.show()"
      ],
      "metadata": {
        "colab": {
          "base_uri": "https://localhost:8080/",
          "height": 607
        },
        "id": "a_m0F2VFNGEu",
        "outputId": "08b50646-90a3-46d9-e7e2-d0cb0bba4811"
      },
      "execution_count": 225,
      "outputs": [
        {
          "output_type": "display_data",
          "data": {
            "text/plain": [
              "<Figure size 1000x600 with 1 Axes>"
            ],
            "image/png": "[encoded data removed]"
          },
          "metadata": {}
        }
      ]
    },
    {
      "cell_type": "code",
      "source": [
        "import matplotlib.pyplot as plt\n",
        "import matplotlib.ticker as mticker\n",
        "\n",
        "medias_avaliacao = [media_loja1, media_loja2, media_loja3, media_loja4]\n",
        "lojas = ['Loja 1', 'Loja 2', 'Loja 3', 'Loja 4']\n",
        "colors = ['blue', 'green', 'red', 'purple'] # Same colors as previous plots\n",
        "\n",
        "bars = plt.bar(lojas, medias_avaliacao, color=colors)\n",
        "plt.title('Média de Avaliação por Loja')\n",
        "plt.ylabel('Nota')\n",
        "plt.ylim(3.9, 4.1) # Adjust y-axis limits for better visualization of small differences\n",
        "\n",
        "# Format y-axis labels to two decimal places\n",
        "formatter = mticker.FormatStrFormatter('%.2f')\n",
        "plt.gca().yaxis.set_major_formatter(formatter)\n",
        "\n",
        "\n",
        "# Add values on top of each bar\n",
        "for bar in bars:\n",
        "    yval = bar.get_height()\n",
        "    plt.text(bar.get_x() + bar.get_width()/2, yval, f'{yval:.2f}', va='bottom', ha='center')\n",
        "\n",
        "plt.show()"
      ],
      "metadata": {
        "colab": {
          "base_uri": "https://localhost:8080/",
          "height": 453
        },
        "id": "FkSKqdAkJqsF",
        "outputId": "c0e6e5f2-5c52-4573-b809-39164e4f0345"
      },
      "execution_count": 215,
      "outputs": [
        {
          "output_type": "display_data",
          "data": {
            "text/plain": [
              "<Figure size 640x480 with 1 Axes>"
            ],
            "image/png": "[encoded data removed]"
          },
          "metadata": {}
        }
      ]
    },
    {
      "cell_type": "code",
      "source": [],
      "metadata": {
        "id": "J7WQYhiGKzdC"
      },
      "execution_count": null,
      "outputs": []
    },
    {
      "cell_type": "code",
      "metadata": {
        "colab": {
          "base_uri": "https://localhost:8080/",
          "height": 607
        },
        "id": "e69e4961",
        "outputId": "d31c5cf7-6747-4366-f857-4f8fb8a32989"
      },
      "source": [
        "import matplotlib.pyplot as plt\n",
        "import pandas as pd\n",
        "\n",
        "# Concatenate all store dataframes\n",
        "all_stores = pd.concat([loja, loja2, loja3, loja4])\n",
        "\n",
        "# Get overall most and least sold products\n",
        "overall_sales_counts = all_stores['Produto'].value_counts()\n",
        "most_sold_products = overall_sales_counts[overall_sales_counts == overall_sales_counts.iloc[0]].index.tolist()\n",
        "least_sold_products = overall_sales_counts[overall_sales_counts == overall_sales_counts.iloc[-1]].index.tolist()\n",
        "\n",
        "# Filter the sales counts for only the most and least sold products\n",
        "filtered_sales = overall_sales_counts.loc[most_sold_products + least_sold_products]\n",
        "\n",
        "# Create a bar plot\n",
        "plt.figure(figsize=(10, 6))\n",
        "bars = plt.bar(filtered_sales.index, filtered_sales.values)\n",
        "\n",
        "plt.title('Produtos mais e menos vendidos')\n",
        "plt.xlabel('Produto')\n",
        "plt.ylabel('Unidades vendidas')\n",
        "plt.ylim(125, 220)\n",
        "plt.xticks(rotation=45, ha='right') # Rotate labels for better readability\n",
        "\n",
        "# Add values on top of each bar\n",
        "for bar in bars:\n",
        "    yval = bar.get_height()\n",
        "    plt.text(bar.get_x() + bar.get_width()/2, yval, yval, va='bottom', ha='center')\n",
        "\n",
        "\n",
        "plt.tight_layout()\n",
        "plt.show()"
      ],
      "execution_count": 228,
      "outputs": [
        {
          "output_type": "display_data",
          "data": {
            "text/plain": [
              "<Figure size 1000x600 with 1 Axes>"
            ],
            "image/png": "[encoded data removed]"
          },
          "metadata": {}
        }
      ]
    },
    {
      "cell_type": "code",
      "source": [
        "import matplotlib.pyplot as plt\n",
        "\n",
        "medias_frete = [media_frete_loja1, media_frete_loja2, media_frete_loja3, media_frete_loja4]\n",
        "lojas = ['Loja 1', 'Loja 2', 'Loja 3', 'Loja 4']\n",
        "colors = ['blue', 'green', 'red', 'purple'] # Same colors as previous plots\n",
        "\n",
        "plt.figure(figsize=(8, 6))\n",
        "plt.scatter(lojas, medias_frete, color=colors, s=100) # Create a scatter plot with different colors and marker size\n",
        "plt.ylabel('Média de Frete (R$)')\n",
        "plt.ylim(31, 35) # Adjust y-axis limits for better visualization of small differences\n",
        "\n",
        "\n",
        "# Add values next to each point\n",
        "for i, txt in enumerate(medias_frete):\n",
        "    plt.annotate(f'{txt:.2f}', (lojas[i], medias_frete[i]), textcoords=\"offset points\", xytext=(0,10), ha='center') # Add text annotation\n",
        "\n",
        "\n",
        "plt.grid(True, linestyle='--', alpha=0.6)\n",
        "plt.show()"
      ],
      "metadata": {
        "colab": {
          "base_uri": "https://localhost:8080/",
          "height": 528
        },
        "id": "Jbj_3QpWMoTa",
        "outputId": "527ac40d-e73d-4cf2-e87c-70685b3473e6"
      },
      "execution_count": 239,
      "outputs": [
        {
          "output_type": "display_data",
          "data": {
            "text/plain": [
              "<Figure size 800x600 with 1 Axes>"
            ],
            "image/png": "[encoded data removed]"
          },
          "metadata": {}
        }
      ]
    },
    {
      "cell_type": "markdown",
      "metadata": {
        "id": "9400a92a"
      },
      "source": [
        "## Relatório Final: Análise de Desempenho das Lojas para Decisão de Venda\n",
        "\n",
        "Este relatório tem como objetivo analisar o desempenho de quatro lojas da rede Alura Store com base em métricas de vendas, desempenho e avaliações, a fim de identificar a loja com menor eficiência para ser vendida, liberando recursos para um novo empreendimento do Senhor João.\n",
        "\n",
        "**Análise dos Dados e Visualizações:**\n",
        "\n",
        "Realizamos uma análise detalhada dos dados de cada loja, utilizando visualizações para facilitar a compreensão. Os principais insights obtidos são apresentados a seguir, com referência aos gráficos gerados anteriormente no notebook:\n",
        "\n",
        "*   **Faturamento Total:** O gráfico de barras de \"Faturamento por Loja\" mostra claramente que a Loja 1 apresenta o maior faturamento, seguida pela Loja 2, Loja 3 e, por último, a Loja 4. Um menor faturamento pode ser um indicador de menor eficiência na geração de receita.\n",
        "\n",
        "*   **Categorias de Produtos Mais e Menos Vendidas:** Os gráficos de barras das \"Categorias de produtos mais e menos vendidos por Loja\" e o gráfico de barras horizontal de \"Categorias mais e menos vendidas\" no geral indicam as categorias com maior e menor volume de vendas em cada loja e no consolidado. A análise das categorias pode ajudar a entender se a mix de produtos de uma loja contribui para sua eficiência.\n",
        "\n",
        "*   **Média das Avaliações de Clientes:** O gráfico de barras de \"Média de Avaliação por Loja\" demonstra que as lojas 2 e 3 possuem as maiores médias de avaliação, ligeiramente superiores às lojas 1 e 4. Avaliações mais baixas podem indicar problemas na experiência do cliente, impactando a eficiência a longo prazo.\n",
        "\n",
        "*   **Produtos Mais e Menos Vendidos:** A análise dos produtos mais e menos vendidos em cada loja (impressão dos resultados) e no gráfico de barras de \"Produtos mais e menos vendidos\" no geral nos permite identificar os produtos de maior e menor giro. Um grande volume de produtos de baixo giro pode indicar ineficiência na gestão de estoque e vendas.\n",
        "\n",
        "*   **Frete Médio:** O gráfico de dispersão de \"Média de Frete por Loja\" ilustra o custo médio de frete para cada loja. A Loja 1 apresenta o frete médio mais alto, enquanto a Loja 4 tem o frete médio mais baixo. Custos de frete mais altos podem impactar a lucratividade e, consequentemente, a eficiência.\n",
        "\n",
        "**Discussão e Justificativa para a Recomendação:**\n",
        "\n",
        "Ao considerar a decisão de vender a loja menos eficiente, é crucial analisar como cada fator contribui para a eficiência geral:\n",
        "\n",
        "*   **Loja 1:** Apresenta o maior faturamento, um ponto forte em termos de receita. No entanto, possui a menor média de avaliação e o frete médio mais alto. Esses fatores podem indicar ineficiências operacionais ou de satisfação do cliente que, apesar do alto faturamento, podem impactar a lucratividade e a percepção de valor.\n",
        "\n",
        "*   **Loja 2:** Demonstra um bom equilíbrio com faturamento robusto e uma das maiores médias de avaliação. O frete médio é intermediário. Parece ser uma loja eficiente tanto na geração de receita quanto na satisfação do cliente.\n",
        "\n",
        "*   **Loja 3:** Possui faturamento considerável e a maior média de avaliação. O frete médio é intermediário. Assim como a Loja 2, aparenta ser uma operação eficiente e com alta satisfação do cliente.\n",
        "\n",
        "*   **Loja 4:** Apresenta o menor faturamento, o que sugere menor eficiência na geração de receita em comparação com as outras lojas. Embora tenha o frete médio mais baixo, o volume de vendas pode não ser suficiente para compensar outros fatores. A média de avaliação é razoável, mas não se destaca positivamente.\n",
        "\n",
        "Considerando o objetivo de identificar a loja com menor eficiência, a **Loja 4** se destaca como a candidata mais provável. Seu menor faturamento, apesar do frete mais baixo, indica uma menor capacidade de gerar receita em relação ao potencial das outras unidades. Enquanto a Loja 1 tem desafios com frete e avaliação, seu faturamento significativamente maior pode indicar uma base de clientes maior ou maior volume de transações, o que pode ser visto como uma forma de eficiência em escala, apesar de outras ineficiências pontuais.\n",
        "\n",
        "**Conclusão e Recomendação:**\n",
        "\n",
        "Com base na análise das métricas de desempenho, a **Loja 4** é identificada como a loja com menor eficiência na rede Alura Store, principalmente devido ao seu menor faturamento.\n",
        "\n",
        "Portanto, a recomendação ao Senhor João é que considere a venda da **Loja 4**. A liberação dos recursos provenientes da venda desta unidade permitiria investir em um novo empreendimento sem comprometer significativamente a receita total da rede, ao mesmo tempo em que mantém as lojas com maior potencial de faturamento e melhor avaliação dos clientes. Focar os esforços e recursos nas Lojas 1, 2 e 3, que demonstram maior eficiência na geração de receita e satisfação do cliente (Lojas 2 e 3), seria estratégico para o crescimento futuro da Alura Store."
      ]
    }
  ]
}